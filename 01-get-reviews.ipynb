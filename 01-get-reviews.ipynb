{
 "cells": [
  {
   "cell_type": "code",
   "execution_count": null,
   "id": "3ee508f1-7d1f-4f9f-9a3b-dd434b44c874",
   "metadata": {},
   "outputs": [],
   "source": [
    "import requests\n",
    "from bs4 import BeautifulSoup\n",
    "import json\n",
    "import time\n",
    "import os"
   ]
  },
  {
   "cell_type": "code",
   "execution_count": null,
   "id": "cd561b6b",
   "metadata": {},
   "outputs": [],
   "source": [
    "OUTDIR = 'workspace/01-reviews'\n",
    "os.makedirs(OUTDIR, exist_ok=True)"
   ]
  },
  {
   "cell_type": "code",
   "execution_count": 3,
   "id": "ebda4441-a148-4125-9bce-da0658147e59",
   "metadata": {},
   "outputs": [],
   "source": [
    "def get_soup(item_id, page):\n",
    "    url = f\"https://review.rakuten.co.jp/item/1/{item_id}?p={page}#itemReviewList\"\n",
    "    \n",
    "    # ページの内容を取得\n",
    "    response = requests.get(url)\n",
    "    response.encoding = 'utf-8'  # エンコーディングを指定\n",
    "    \n",
    "    # BeautifulSoupでHTMLを解析\n",
    "    soup = BeautifulSoup(response.text, 'html.parser')\n",
    "    return soup"
   ]
  },
  {
   "cell_type": "code",
   "execution_count": 4,
   "id": "4f604182-39d3-4004-bb6b-293abb9c707c",
   "metadata": {},
   "outputs": [],
   "source": [
    "def get_reviews_from_a_page(soup):\n",
    "    # レビューのリストを格納するためのリスト\n",
    "    reviews = []\n",
    "\n",
    "    # レビュー要素を全て取得\n",
    "    review_elements = soup.find_all('div', class_='review-body--1pESv')\n",
    "\n",
    "    for element in review_elements:\n",
    "        # レビュー本文を取得\n",
    "        review_text = element.get_text(strip=True)\n",
    "        reviews.append(review_text)\n",
    "\n",
    "    return reviews"
   ]
  },
  {
   "cell_type": "code",
   "execution_count": null,
   "id": "3ef43d2f-a1ea-4568-9ecc-99a7118fa16d",
   "metadata": {},
   "outputs": [],
   "source": [
    "def get_all_review(item_id):\n",
    "    soup = get_soup(item_id, 1)\n",
    "\n",
    "    # 最大page取得\n",
    "    max_page = int(soup.find_all('button', {'class': \"page-button--1Lwus\"})[-1].get_text())\n",
    "\n",
    "    # 1ページ目\n",
    "    print(f\"1 / {max_page}\")\n",
    "    reviews = get_reviews_from_a_page(soup)\n",
    "\n",
    "    # 2ページ目以降\n",
    "    for page in range(2, max_page+1):\n",
    "        time.sleep(10)\n",
    "        print(f\"{page} / {max_page}\")\n",
    "        soup = get_soup(item_id, page)\n",
    "        reviews.extend(get_reviews_from_a_page(soup))\n",
    "\n",
    "    return reviews"
   ]
  },
  {
   "cell_type": "markdown",
   "id": "bb1d2a03-d822-4337-98d1-334bb47fa8b7",
   "metadata": {},
   "source": [
    "# start to get data"
   ]
  },
  {
   "cell_type": "code",
   "execution_count": 6,
   "id": "add63b25-6030-4421-9329-e3035ccd5a38",
   "metadata": {},
   "outputs": [],
   "source": [
    "item_ids = [\"411011_10000344\"]"
   ]
  },
  {
   "cell_type": "code",
   "execution_count": null,
   "id": "75bfc929-ab5d-41e2-af69-005082ab0c75",
   "metadata": {},
   "outputs": [
    {
     "name": "stdout",
     "output_type": "stream",
     "text": [
      "1 / 85\n"
     ]
    }
   ],
   "source": [
    "for item_id in item_ids:\n",
    "    reviews = get_all_review(item_id)\n",
    "    with open(f\"{OUTDIR}/{item_id}.json\", \"w\", encoding=\"utf-8\") as f:\n",
    "        json.dump(reviews, f, ensure_ascii=False, indent=2)"
   ]
  },
  {
   "cell_type": "code",
   "execution_count": null,
   "id": "e9f01d57-21ea-45f4-91af-0cd315032fae",
   "metadata": {},
   "outputs": [],
   "source": []
  }
 ],
 "metadata": {
  "kernelspec": {
   "display_name": "review-analysis",
   "language": "python",
   "name": "python3"
  },
  "language_info": {
   "codemirror_mode": {
    "name": "ipython",
    "version": 3
   },
   "file_extension": ".py",
   "mimetype": "text/x-python",
   "name": "python",
   "nbconvert_exporter": "python",
   "pygments_lexer": "ipython3",
   "version": "3.13.2"
  }
 },
 "nbformat": 4,
 "nbformat_minor": 5
}
