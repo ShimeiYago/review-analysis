{
 "cells": [
  {
   "cell_type": "code",
   "execution_count": 1,
   "id": "aa145c9d-9007-46c3-a290-c4302b8783e0",
   "metadata": {},
   "outputs": [],
   "source": [
    "from google.cloud import language_v1\n",
    "import pandas as pd\n",
    "import json\n",
    "import os\n",
    "import time\n",
    "import matplotlib.pyplot as plt"
   ]
  },
  {
   "cell_type": "code",
   "execution_count": null,
   "id": "4b4f7aa0",
   "metadata": {},
   "outputs": [],
   "source": [
    "OUTDIR = 'workspace/02-entity-sentiment'\n",
    "os.makedirs(OUTDIR, exist_ok=True)"
   ]
  },
  {
   "cell_type": "code",
   "execution_count": 2,
   "id": "e085365a",
   "metadata": {},
   "outputs": [],
   "source": [
    "neutral_range = 0.1"
   ]
  },
  {
   "cell_type": "code",
   "execution_count": 3,
   "id": "a41af78f-5f94-4ac3-a959-336d9f420da2",
   "metadata": {},
   "outputs": [],
   "source": [
    "def analyze_entity_sentiment(text_content):\n",
    "    \"\"\"\n",
    "    Analyzing Entity Sentiment in a String\n",
    "\n",
    "    Args:\n",
    "      text_content The text content to analyze\n",
    "    \"\"\"\n",
    "\n",
    "    client = language_v1.LanguageServiceClient()\n",
    "\n",
    "    # text_content = 'Grapes are good. Bananas are bad.'\n",
    "\n",
    "    # Available types: PLAIN_TEXT, HTML\n",
    "    type_ = language_v1.types.Document.Type.PLAIN_TEXT\n",
    "\n",
    "    # Optional. If not specified, the language is automatically detected.\n",
    "    # For list of supported languages:\n",
    "    # https://cloud.google.com/natural-language/docs/languages\n",
    "    language = \"ja\"\n",
    "    document = {\"content\": text_content, \"type_\": type_, \"language\": language}\n",
    "\n",
    "    # Available values: NONE, UTF8, UTF16, UTF32\n",
    "    encoding_type = language_v1.EncodingType.UTF8\n",
    "\n",
    "    response = client.analyze_entity_sentiment(\n",
    "        request={\"document\": document, \"encoding_type\": encoding_type}\n",
    "    )\n",
    "    \n",
    "    # Loop through entitites returned from the API\n",
    "    li = []\n",
    "    for entity in response.entities:\n",
    "        entity_type = language_v1.Entity.Type(entity.type_).name\n",
    "\n",
    "        polarity = \"neutral\"\n",
    "        if entity.sentiment.score > neutral_range:\n",
    "            polarity = \"positive\"\n",
    "        elif entity.sentiment.score < -neutral_range:\n",
    "            polarity = \"negative\"\n",
    "        \n",
    "        li.append([entity.name, entity_type, entity.sentiment.score, polarity])\n",
    "\n",
    "    return li"
   ]
  },
  {
   "cell_type": "code",
   "execution_count": 4,
   "id": "8fe12964-d715-4940-9b56-f2d314e56fac",
   "metadata": {},
   "outputs": [],
   "source": [
    "def cal_price(input_text):\n",
    "    # テキストの文字数を取得\n",
    "    num_chars = len(input_text)\n",
    "    \n",
    "    # 1,000文字ごとに1ユニット、端数は切り上げ\n",
    "    num_units = -(-num_chars // 1000)  # 切り上げの計算\n",
    "\n",
    "    # ユニット数に応じた料金計算\n",
    "    if num_units <= 5000:\n",
    "        price_per_unit = 2.00  # 0～5,000ユニット\n",
    "    elif num_units <= 1000000:\n",
    "        price_per_unit = 1.00  # 5,001～1,000,000ユニット\n",
    "    elif num_units <= 5000000:\n",
    "        price_per_unit = 0.50  # 1,000,001～5,000,000ユニット\n",
    "    else:\n",
    "        price_per_unit = 0.25  # 5,000,001ユニット以上\n",
    "\n",
    "    # 総料金を計算\n",
    "    total_price = num_units * price_per_unit / 1000  # 1,000ユニットあたりの料金なので調整\n",
    "\n",
    "    return total_price\n"
   ]
  },
  {
   "cell_type": "markdown",
   "id": "141ed098-a4c0-40de-b29c-dce5014eabdc",
   "metadata": {},
   "source": [
    "# メイン処理"
   ]
  },
  {
   "cell_type": "code",
   "execution_count": 5,
   "id": "d04963fa-87c9-4ea7-8332-a550c5dd06a8",
   "metadata": {},
   "outputs": [],
   "source": [
    "target_dir = 'workspace/01-reviews/'"
   ]
  },
  {
   "cell_type": "code",
   "execution_count": 6,
   "id": "fd33f095-8b03-4a5f-b206-6c0e71fea059",
   "metadata": {},
   "outputs": [],
   "source": [
    "max_count_to_call = float('inf')\n",
    "# max_count_to_call = 3"
   ]
  },
  {
   "cell_type": "code",
   "execution_count": 7,
   "id": "cdafed9f",
   "metadata": {},
   "outputs": [],
   "source": [
    "def iter_reviews():\n",
    "    count_to_call = 0\n",
    "\n",
    "    for entry in os.listdir(target_dir):\n",
    "        full_path = os.path.join(target_dir, entry)\n",
    "\n",
    "        with open(full_path, \"r\", encoding=\"utf-8\") as f:\n",
    "            reviews = json.load(f)\n",
    "            for review in reviews:\n",
    "                count_to_call += 1\n",
    "                if count_to_call > max_count_to_call:\n",
    "                    return\n",
    "                yield review"
   ]
  },
  {
   "cell_type": "markdown",
   "id": "da46fb44-d1b9-461c-859d-0c1da655eb74",
   "metadata": {},
   "source": [
    "## 料金確認"
   ]
  },
  {
   "cell_type": "code",
   "execution_count": 8,
   "id": "6da8ec26-ebad-41ea-8980-3c95a4d87c55",
   "metadata": {},
   "outputs": [
    {
     "name": "stdout",
     "output_type": "stream",
     "text": [
      "$ 5.0680000000000005\n"
     ]
    }
   ],
   "source": [
    "prices = [cal_price(review) for review in iter_reviews()]\n",
    "len_reviews = len(prices)\n",
    "print(\"$\", sum(prices))\n",
    "del prices"
   ]
  },
  {
   "cell_type": "markdown",
   "id": "e1d505e1-c9ce-4679-bf9a-211dd828c830",
   "metadata": {},
   "source": [
    "## Entity感情分析"
   ]
  },
  {
   "cell_type": "code",
   "execution_count": 9,
   "id": "8ae23bc7-7909-446f-b9be-0bf58bf961b8",
   "metadata": {},
   "outputs": [
    {
     "name": "stdout",
     "output_type": "stream",
     "text": [
      "868 / 2534"
     ]
    },
    {
     "name": "stderr",
     "output_type": "stream",
     "text": [
      "WARNING: All log messages before absl::InitializeLog() is called are written to STDERR\n",
      "I0000 00:00:1739710335.327944 1937014 fork_posix.cc:75] Other threads are currently calling into gRPC, skipping fork() handlers\n"
     ]
    },
    {
     "name": "stdout",
     "output_type": "stream",
     "text": [
      "2534 / 2534"
     ]
    }
   ],
   "source": [
    "entities = []\n",
    "process_times = []\n",
    "for i, review in enumerate(iter_reviews()):\n",
    "    start = time.time()\n",
    "    entities.extend(analyze_entity_sentiment(review))\n",
    "    process_times.append(time.time() - start)\n",
    "    print(f\"\\r{i+1} / {len_reviews}\", end=\"\")"
   ]
  },
  {
   "cell_type": "code",
   "execution_count": 10,
   "id": "b421d1e3-ed19-4a6c-b752-c740f9cac019",
   "metadata": {},
   "outputs": [
    {
     "data": {
      "text/html": [
       "<div>\n",
       "<style scoped>\n",
       "    .dataframe tbody tr th:only-of-type {\n",
       "        vertical-align: middle;\n",
       "    }\n",
       "\n",
       "    .dataframe tbody tr th {\n",
       "        vertical-align: top;\n",
       "    }\n",
       "\n",
       "    .dataframe thead th {\n",
       "        text-align: right;\n",
       "    }\n",
       "</style>\n",
       "<table border=\"1\" class=\"dataframe\">\n",
       "  <thead>\n",
       "    <tr style=\"text-align: right;\">\n",
       "      <th></th>\n",
       "      <th>entityName</th>\n",
       "      <th>type</th>\n",
       "      <th>score</th>\n",
       "      <th>polarity</th>\n",
       "    </tr>\n",
       "  </thead>\n",
       "  <tbody>\n",
       "    <tr>\n",
       "      <th>0</th>\n",
       "      <td>購入</td>\n",
       "      <td>EVENT</td>\n",
       "      <td>0.0</td>\n",
       "      <td>neutral</td>\n",
       "    </tr>\n",
       "    <tr>\n",
       "      <th>1</th>\n",
       "      <td>目</td>\n",
       "      <td>OTHER</td>\n",
       "      <td>0.0</td>\n",
       "      <td>neutral</td>\n",
       "    </tr>\n",
       "    <tr>\n",
       "      <th>2</th>\n",
       "      <td>病気</td>\n",
       "      <td>OTHER</td>\n",
       "      <td>0.0</td>\n",
       "      <td>neutral</td>\n",
       "    </tr>\n",
       "    <tr>\n",
       "      <th>3</th>\n",
       "      <td>家電量販店</td>\n",
       "      <td>LOCATION</td>\n",
       "      <td>0.2</td>\n",
       "      <td>positive</td>\n",
       "    </tr>\n",
       "    <tr>\n",
       "      <th>4</th>\n",
       "      <td>ボタン</td>\n",
       "      <td>OTHER</td>\n",
       "      <td>0.0</td>\n",
       "      <td>neutral</td>\n",
       "    </tr>\n",
       "    <tr>\n",
       "      <th>...</th>\n",
       "      <td>...</td>\n",
       "      <td>...</td>\n",
       "      <td>...</td>\n",
       "      <td>...</td>\n",
       "    </tr>\n",
       "    <tr>\n",
       "      <th>15649</th>\n",
       "      <td>感じ</td>\n",
       "      <td>OTHER</td>\n",
       "      <td>0.3</td>\n",
       "      <td>positive</td>\n",
       "    </tr>\n",
       "    <tr>\n",
       "      <th>15650</th>\n",
       "      <td>風量</td>\n",
       "      <td>OTHER</td>\n",
       "      <td>0.0</td>\n",
       "      <td>neutral</td>\n",
       "    </tr>\n",
       "    <tr>\n",
       "      <th>15651</th>\n",
       "      <td>野外向き</td>\n",
       "      <td>LOCATION</td>\n",
       "      <td>0.0</td>\n",
       "      <td>neutral</td>\n",
       "    </tr>\n",
       "    <tr>\n",
       "      <th>15652</th>\n",
       "      <td>Anker</td>\n",
       "      <td>OTHER</td>\n",
       "      <td>0.0</td>\n",
       "      <td>neutral</td>\n",
       "    </tr>\n",
       "    <tr>\n",
       "      <th>15653</th>\n",
       "      <td>充電ケーブル</td>\n",
       "      <td>CONSUMER_GOOD</td>\n",
       "      <td>-0.1</td>\n",
       "      <td>negative</td>\n",
       "    </tr>\n",
       "  </tbody>\n",
       "</table>\n",
       "<p>15654 rows × 4 columns</p>\n",
       "</div>"
      ],
      "text/plain": [
       "      entityName           type  score  polarity\n",
       "0             購入          EVENT    0.0   neutral\n",
       "1              目          OTHER    0.0   neutral\n",
       "2             病気          OTHER    0.0   neutral\n",
       "3          家電量販店       LOCATION    0.2  positive\n",
       "4            ボタン          OTHER    0.0   neutral\n",
       "...          ...            ...    ...       ...\n",
       "15649         感じ          OTHER    0.3  positive\n",
       "15650         風量          OTHER    0.0   neutral\n",
       "15651       野外向き       LOCATION    0.0   neutral\n",
       "15652      Anker          OTHER    0.0   neutral\n",
       "15653     充電ケーブル  CONSUMER_GOOD   -0.1  negative\n",
       "\n",
       "[15654 rows x 4 columns]"
      ]
     },
     "execution_count": 10,
     "metadata": {},
     "output_type": "execute_result"
    }
   ],
   "source": [
    "columns = [\"entityName\", \"type\", \"score\", \"polarity\"]\n",
    "df = pd.DataFrame(data=entities, columns=columns)\n",
    "df"
   ]
  },
  {
   "cell_type": "code",
   "execution_count": null,
   "id": "dbe2090f",
   "metadata": {},
   "outputs": [],
   "source": [
    "df.to_csv(f'{OUTDIR}/entity-sentiment.csv', index=False)"
   ]
  },
  {
   "cell_type": "markdown",
   "id": "636859ed",
   "metadata": {},
   "source": [
    "# 呼び出し時間"
   ]
  },
  {
   "cell_type": "code",
   "execution_count": 12,
   "id": "43c72c4c",
   "metadata": {},
   "outputs": [
    {
     "data": {
      "text/plain": [
       "2.485662751058565"
      ]
     },
     "execution_count": 12,
     "metadata": {},
     "output_type": "execute_result"
    }
   ],
   "source": [
    "sum(process_times) / len(process_times)"
   ]
  },
  {
   "cell_type": "code",
   "execution_count": 13,
   "id": "757e2baf",
   "metadata": {},
   "outputs": [
    {
     "data": {
      "image/png": "[encoded data removed]",
      "text/plain": [
       "<Figure size 640x480 with 1 Axes>"
      ]
     },
     "metadata": {},
     "output_type": "display_data"
    }
   ],
   "source": [
    "plt.boxplot(process_times)\n",
    "plt.show()"
   ]
  },
  {
   "cell_type": "code",
   "execution_count": 5,
   "id": "758df1b6",
   "metadata": {},
   "outputs": [
    {
     "data": {
      "text/plain": [
       "[['クオリティ', 'OTHER', 0.20000000298023224, 'positive']]"
      ]
     },
     "execution_count": 5,
     "metadata": {},
     "output_type": "execute_result"
    }
   ],
   "source": [
    "review = \"\"\"\n",
    "安いわりにはおいしい。\n",
    "このクオリティにしては安すぎるぐらいです！\n",
    "\"\"\"\n",
    "analyze_entity_sentiment(review)"
   ]
  },
  {
   "cell_type": "code",
   "execution_count": null,
   "id": "f2d07671",
   "metadata": {},
   "outputs": [],
   "source": []
  }
 ],
 "metadata": {
  "kernelspec": {
   "display_name": "review-analysis",
   "language": "python",
   "name": "python3"
  },
  "language_info": {
   "codemirror_mode": {
    "name": "ipython",
    "version": 3
   },
   "file_extension": ".py",
   "mimetype": "text/x-python",
   "name": "python",
   "nbconvert_exporter": "python",
   "pygments_lexer": "ipython3",
   "version": "3.13.2"
  }
 },
 "nbformat": 4,
 "nbformat_minor": 5
}
